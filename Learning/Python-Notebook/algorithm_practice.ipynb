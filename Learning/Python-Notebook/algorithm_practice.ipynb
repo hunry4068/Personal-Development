{
 "cells": [
  {
   "cell_type": "markdown",
   "metadata": {},
   "source": [
    "# Sorting"
   ]
  },
  {
   "cell_type": "markdown",
   "metadata": {},
   "source": [
    "# Bubble Sort\n",
    "\n",
    "- Strategy\n",
    "    - compare and move the larger item gradually to the top of a list, just like a bubble\n",
    "- Process\n",
    "    1. compare arr[i] with arr[i+1] and swap the larger number to the right hand side\n",
    "    2. gradually move the largest number to the last place [len-1-i]\n",
    "    3. repeat the above until the last item <em>or all items are sorted</em>\n",
    "- Time Complexity\n",
    "    - O(n^2)\n",
    "    - O(n) best: when sorted with the same order as the method\n",
    "- Space Complexity\n",
    "    - θ(1)"
   ]
  },
  {
   "cell_type": "code",
   "execution_count": null,
   "metadata": {},
   "outputs": [],
   "source": [
    "\n",
    "class Bubble:\n",
    "    def sort(self, data):\n",
    "        data_len = len(data)\n",
    "        \n",
    "        # loop (n-1) rounds to find the largest item of each round\n",
    "        for round in range(1, data_len):\n",
    "            print('round {}:'.format(round))\n",
    "            flag = True\n",
    "            \n",
    "            # from 0:(n-1) to 0:1 gradually compare and take the bubble (largest one) out\n",
    "            # if nothing is sorted at a round which means all items are sorted -> can break outside loop earlier\n",
    "            for idx in range(data_len - round):\n",
    "                if data[idx] > data[idx + 1]:\n",
    "                    print('data[{}]({}) > data[{}]({}), swap values'.format(idx, data[idx], idx + 1, data[idx + 1]))\n",
    "                    data[idx], data[idx + 1] = data[idx + 1], data[idx]\n",
    "                    flag = False\n",
    "            \n",
    "            if flag:\n",
    "                print('all items are sorted, loop break')\n",
    "                break\n",
    "        \n",
    "        print('bubble sort complete')\n",
    "        return data\n",
    "    \n",
    "# test\n",
    "sol = Bubble()\n",
    "print(sol.sort([90, 74, 91, 32, 88, 71, 26, 55, 37, 63]))\n"
   ]
  },
  {
   "cell_type": "markdown",
   "metadata": {},
   "source": [
    "# Selection Sort\n",
    "\n",
    "- Strategy\n",
    "    - select the largest item in each round, then move it to the last of the round\n",
    "- Process\n",
    "    1. find the largest one in a round\n",
    "    2. compare it with the last item of the round, swap the largest one to the last\n",
    "    3. repeat the above until the last item\n",
    "- Time Complexity\n",
    "    - O(n^2) (always run n^2 times)\n",
    "- Space Complexity\n",
    "    - θ(1)\n"
   ]
  },
  {
   "cell_type": "code",
   "execution_count": null,
   "metadata": {},
   "outputs": [],
   "source": [
    "\n",
    "class Selection:\n",
    "    def sort(self, data):\n",
    "        data_len = len(data)\n",
    "        \n",
    "        # loop n-1 rounds to find out the largest item of each round\n",
    "        for round in range(1, data_len):\n",
    "            print('\\nround {}:'.format(round))\n",
    "            \n",
    "            # set the last item as the default largest item to compare with each one\n",
    "            last_idx = largest_idx = data_len - round\n",
    "            \n",
    "            # compare from 0:n (n - (r=1) + 1) to 0:2(n - (r=n-1) + 1) elements and move the largest number to the last place\n",
    "            for idx in range(data_len - round + 1):\n",
    "                if data[idx] > data[largest_idx]:\n",
    "                    print('data[{}]({}) > data[{}]({}), update largest_idx to [{}]'.format(idx, data[idx], largest_idx, data[largest_idx], idx))\n",
    "                    largest_idx = idx\n",
    "            \n",
    "            if largest_idx != (last_idx):\n",
    "                print('swap data[{}]({}) with the last item of this round at [{}]'.format(largest_idx, data[largest_idx], last_idx))\n",
    "                data[largest_idx], data[last_idx] = data[last_idx], data[largest_idx]\n",
    "\n",
    "        print('selection sort complete')\n",
    "        return data\n",
    "\n",
    "\n",
    "# test\n",
    "sol = Selection()\n",
    "print(sol.sort([90, 74, 91, 32, 88, 71, 26, 55, 37, 63]))\n"
   ]
  },
  {
   "cell_type": "markdown",
   "metadata": {},
   "source": [
    "# Insertion Sort\n",
    "\n",
    "- Process\n",
    "    1. separate the data to sorted and unsorted groups\n",
    "    2. compare the insert item with sorted group item from right to left\n",
    "    3. shift each bigger item to the next position (i+1)\n",
    "    4. insert the item to the right position of the equal or smaller one\n",
    "    5. repeat 2-4 step\n",
    "- Time Complexity\n",
    "    - O(n^2)\n",
    "    - O(1) best: when data is sorted by ascending order\n",
    "- Space Complexity\n",
    "    - θ(1)"
   ]
  },
  {
   "cell_type": "code",
   "execution_count": null,
   "metadata": {},
   "outputs": [],
   "source": [
    "\n",
    "class Insertion:\n",
    "    def sort(self, data):\n",
    "        data_len = len(data)\n",
    "        \n",
    "        # loop n-1 rounds\n",
    "        for round in range(1, data_len):\n",
    "            print('\\nround {}:'.format(round))\n",
    "            \n",
    "            idx = round\n",
    "            insert_item = data[idx]\n",
    "            \n",
    "            # loop to move items until nothing is smaller than the insert_item, then the index will be the position to insert\n",
    "            while idx > 0 and insert_item < data[idx - 1]:\n",
    "                print('move data[{}]({}) to the right position as [{}]'.format(idx - 1, data[idx - 1], idx))\n",
    "                data[idx] = data[idx - 1]\n",
    "                idx -= 1\n",
    "                \n",
    "            # insert item to the position just left to the bigger one\n",
    "            if idx != round:\n",
    "                print('insert insert_item ({}) to the sorted position as [{}]'.format(insert_item, idx))\n",
    "                data[idx] = insert_item\n",
    "\n",
    "        print('selection sort complete')\n",
    "        return data\n",
    "\n",
    "\n",
    "# test\n",
    "sol = Insertion()\n",
    "print(sol.sort([90, 74, 91, 32, 88, 71, 26, 55, 37, 63]))\n"
   ]
  },
  {
   "cell_type": "markdown",
   "metadata": {},
   "source": [
    "# Merge Sort"
   ]
  },
  {
   "cell_type": "code",
   "execution_count": 39,
   "metadata": {},
   "outputs": [
    {
     "name": "stdout",
     "output_type": "stream",
     "text": [
      "[26, 32, 37, 55, 63, 71, 74, 88, 90, 91]\n"
     ]
    }
   ],
   "source": [
    "class Merge:\n",
    "    def sort(self, data):\n",
    "        # minimal condition\n",
    "        if len(data) <= 1:\n",
    "            return data\n",
    "        \n",
    "        mid_idx = len(data) // 2\n",
    "        \n",
    "        # left will be 1 item more than right if data is odd\n",
    "        left = self.sort(data[:mid_idx])\n",
    "        right = self.sort(data[mid_idx:])\n",
    "        \n",
    "        return self.merge(left, right)\n",
    "        \n",
    "    def merge(self, left, right):\n",
    "        merged_list = []\n",
    "        left_idx = right_idx = 0\n",
    "        while left_idx < len(left) and right_idx < len(right):\n",
    "            if left[left_idx] < right[right_idx]:\n",
    "                merged_list.append(left[left_idx])\n",
    "                left_idx += 1\n",
    "            else:\n",
    "                merged_list.append(right[right_idx])\n",
    "                right_idx += 1\n",
    "        \n",
    "        while left_idx < len(left):\n",
    "            merged_list.append(left[left_idx])\n",
    "            left_idx += 1\n",
    "            \n",
    "        while right_idx < len(right):\n",
    "            merged_list.append(right[right_idx])\n",
    "            right_idx += 1\n",
    "            \n",
    "        return merged_list\n",
    "\n",
    "\n",
    "# test\n",
    "sol = Merge()\n",
    "print(sol.sort([90, 74, 91, 32, 88, 71, 26, 55, 37, 63]))\n"
   ]
  },
  {
   "cell_type": "markdown",
   "metadata": {},
   "source": [
    "# Quick Sort"
   ]
  },
  {
   "cell_type": "code",
   "execution_count": null,
   "metadata": {},
   "outputs": [],
   "source": []
  },
  {
   "cell_type": "markdown",
   "metadata": {},
   "source": [
    "# Practice Recursion"
   ]
  },
  {
   "cell_type": "code",
   "execution_count": 59,
   "metadata": {},
   "outputs": [
    {
     "name": "stdout",
     "output_type": "stream",
     "text": [
      "current deep: 1\n",
      "[1]\n",
      "current deep: 1\n",
      "[2]\n",
      "current deep: 1\n",
      "[3]\n",
      "current deep: 1\n",
      "[4]\n",
      "current deep: 1\n",
      "[5]\n",
      "None\n"
     ]
    }
   ],
   "source": [
    "class Get_Pwd:\n",
    "    def __init__(self) -> None:\n",
    "        self.dig = 9\n",
    "    \n",
    "    def start(self, lon, dig=3):\n",
    "        self.dig = dig\n",
    "        self.recursion(0, lon, [])\n",
    "\n",
    "    def recursion(self, deep, max_deep, pwd):\n",
    "        \n",
    "        if deep == max_deep:\n",
    "            print('current deep: {}'.format(deep))\n",
    "            print(pwd)\n",
    "            # return\n",
    "        \n",
    "        for idx in range(self.dig):\n",
    "            pwd.append(idx + 1)\n",
    "            if sum(pwd) <= 10:\n",
    "                self.recursion(deep + 1, max_deep, pwd)\n",
    "            pwd.pop()\n",
    "            \n",
    "\n",
    "# test\n",
    "sol = Get_Pwd()\n",
    "print(sol.start(1, 5))\n",
    "            \n",
    "            \n",
    "        "
   ]
  },
  {
   "cell_type": "code",
   "execution_count": null,
   "metadata": {},
   "outputs": [],
   "source": [
    "# Tower of Hanoi\n",
    "class Solution:\n",
    "    def count_step(self, n):\n",
    "        if (n == 0):\n",
    "            return 0\n",
    "        else:\n",
    "            return 2 * self.count_step(n-1) + 1\n",
    "\n",
    "    def print_step_detail(self, start, buffer, end, n):\n",
    "        print('round {}:'.format(n))\n",
    "        if (n == 1):\n",
    "            print(start, end)\n",
    "        else:\n",
    "            self.print_step_detail(start, end, buffer, n-1)\n",
    "            self.print_step_detail(start, buffer, end, 1)\n",
    "            self.print_step_detail(buffer, start, end, n-1)\n",
    "\n",
    "    def tower_of_hanoi(self, n):\n",
    "        print(self.count_step(n))\n",
    "        self.print_step_detail(1, 2, 3, n)\n",
    "\n",
    "\n",
    "s = Solution()\n",
    "n = int(input())\n",
    "s.tower_of_hanoi(n)\n"
   ]
  }
 ],
 "metadata": {
  "interpreter": {
   "hash": "d44b1e0abcc89f1a40d17df4fd893cb176dd4a421d0216cdb265b110f0cbb43f"
  },
  "kernelspec": {
   "display_name": "Python 3.8.2 64-bit ('venv-python-notebook': pyenv)",
   "language": "python",
   "name": "python3"
  },
  "language_info": {
   "codemirror_mode": {
    "name": "ipython",
    "version": 3
   },
   "file_extension": ".py",
   "mimetype": "text/x-python",
   "name": "python",
   "nbconvert_exporter": "python",
   "pygments_lexer": "ipython3",
   "version": "3.8.2"
  },
  "orig_nbformat": 4
 },
 "nbformat": 4,
 "nbformat_minor": 2
}
