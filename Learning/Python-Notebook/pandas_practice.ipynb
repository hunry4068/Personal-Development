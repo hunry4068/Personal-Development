{
 "cells": [
  {
   "cell_type": "code",
   "execution_count": null,
   "metadata": {},
   "outputs": [],
   "source": [
    "import pandas as pd\n",
    "\n"
   ]
  },
  {
   "cell_type": "markdown",
   "metadata": {},
   "source": [
    "# use pandas to manipulate data across different collection"
   ]
  },
  {
   "cell_type": "code",
   "execution_count": null,
   "metadata": {},
   "outputs": [],
   "source": [
    "stocks = ['3008 大立光', '6415 矽力-KY', '6409 旭隼', '5269 祥碩', '6669 緯穎', '2207 和泰車', '3406 玉晶光', '1476 儒鴻', '2454 聯發科', '3563 牧德', '2059 川湖', '1590 亞德客-KY', '2912 統一超', '2231 為升', '8464 億豐', '2395 研華', '8341 日友', '8454 富邦媒', '2049 上銀', '2330 台積電', '3533 嘉澤', '6230 超眾', '2227 裕日車', '3443 創意', '2327 國巨', '8462 柏文', '6414 樺漢', '6452 康友-KY', '4137 麗豐-KY', '3665 貿聯-KY', '2474 可成', '2379 瑞昱', '9921 巨大', '2357 華碩', '9910 豐泰', '1256 鮮活果汁-KY', '1707 葡萄王', '3034 聯詠', '1477 聚陽', '6666 羅麗芬-KY', '9914 美利達', '4943 康控-KY', '3130 一零四', '6670 復盛應用', '2707 晶華', '4766 南寶', '2345 智邦', '2492 華新科', '4438 廣越', '8070 長華', '4536 拓凱',\n",
    "          '8016 矽創', '4968 立積', '2360 致茂', '2404 漢唐', '8422 可寧衛', '4551 智伸科', '2723 美食-KY', '1537 廣隆', '4763 材料-KY', '2439 美律', '2308 台達電', '6504 南六', '3653 健策', '6213 聯茂', '3023 信邦', '2383 台光電', '1558 伸興', '3376 新日興', '8499 鼎炫-KY', '3661 世芯-KY', '5288 豐祥-KY', '8482 商億-KY', '2228 劍麟', '8480 泰昇-KY', '5871 中租-KY', '6533 晶心科', '1723 中碳', '1232 大統益', '6271 同欣電', '4912 聯德控股-KY', '4958 臻鼎-KY', '8081 致新', '6451 訊芯-KY', '1536 和大', '3413 京鼎', '6176 瑞儀', '9941 裕融', '3044 健鼎', '3045 台灣大', '8114 振樺電', '2412 中華電', '6464 台數科', '3596 智易', '6456 GIS-KY', '008201 BP上證50', '3454 晶睿', '2939 凱羿-KY', '4190 佐登-KY', '3532 台勝科']\n",
    "prices = [3885.0, 705.0, 644.0, 509.0, 450.0, 435.5, 425.0, 386.0, 370.5, 339.0, 330.0, 327.5, 292.5, 286.5, 268.5, 267.5, 262.5, 259.5, 259.0, 257.5, 249.0, 248.0, 247.5, 238.0, 236.0, 231.0, 225.5, 224.0, 223.0, 222.5, 221.0, 218.0, 214.5, 205.0, 204.0, 203.0, 194.5, 193.0, 185.0, 184.0, 180.0, 171.5, 170.0, 168.0, 166.0, 165.5, 164.0, 160.0, 159.0,\n",
    "          158.5, 158.5, 158.0, 158.0, 158.0, 156.5, 153.0, 152.0, 150.5, 149.5, 148.0, 147.5, 146.0, 146.0, 144.0, 142.5, 138.0, 133.5, 133.0, 132.0, 131.5, 131.5, 129.5, 129.0, 128.5, 127.5, 127.0, 126.5, 126.0, 121.0, 120.0, 119.5, 118.5, 118.0, 117.5, 116.5, 116.5, 115.0, 114.0, 113.5, 112.5, 110.5, 110.0, 107.5, 106.0, 105.5, 104.65, 104.0, 103.5, 103.5, 103.0]  \n",
    "\n",
    "# * set data frame cols\n",
    "df = pd.DataFrame()\n",
    "df['stock'] = stocks\n",
    "df['price'] = prices\n",
    "\n",
    "# * 1. use contains() to filter col\n",
    "# * 2. calculate median\n",
    "ky_median = df[df['stock'].str.contains('KY')]['price'].median()\n",
    "\n",
    "# * use format to handle string\n",
    "print('The median of \\'KY\\' stocks is: {median}'.format(median = ky_median))\n",
    "\n",
    "# * n=1 -> split number=1 then return 2 items (non-nessary in this case)\n",
    "# ! expand=True -> return separated item into multiple series (must be True otherwise will return itmes into a new df)\n",
    "df[['stock_code', 'stock_name']] = df['stock'].str.split(' ', n=1, expand=True)\n",
    "print(df['stock_name'])\n"
   ]
  },
  {
   "cell_type": "markdown",
   "metadata": {},
   "source": [
    "# Series"
   ]
  },
  {
   "cell_type": "code",
   "execution_count": null,
   "metadata": {},
   "outputs": [],
   "source": [
    "\n",
    "# * basic way to create series by assigning a hashable collection\n",
    "ser_def_idx = pd.Series(df['stock_name'])\n",
    "print('get series item by default index: ser_def_idx[0] -> {}'.format(ser_def_idx[0]))\n",
    "print('get series item by integer-location(iloc): ser_def_idx.iloc[0] -> {}'.format(ser_def_idx.iloc[0]))\n",
    "print('get series slice by iloc: ser_def_idx.iloc[1:3] -> \\n{}'.format(ser_def_idx.iloc[1:3]))\n",
    "print()\n",
    "\n",
    "# ! create series as dict by assigning index with a list of key\n",
    "ser_set_idx = pd.Series(list(df['stock_name']), name='stock_name', index=list(df['stock_code']))\n",
    "print('get series item by set key: ser_set_idx[\\'6415\\'] -> {}'.format(ser_set_idx['6415']))\n",
    "print('get series slice by iloc: ser_set_idx.iloc[1:3] -> \\n{}'.format(ser_set_idx.iloc[1:3]))\n",
    "print('get series slice by loc: ser_set_idx[\\'6415\\':\\'6669\\'] -> \\n{}'.format(ser_def_idx.loc['6415':'6669']))\n",
    "\n",
    "print('get series indexes: \\n{}'.format(ser_set_idx.index))\n",
    "print('get series values: \\n{}'.format(ser_set_idx.values))\n"
   ]
  },
  {
   "cell_type": "markdown",
   "metadata": {},
   "source": [
    "# Dataframe"
   ]
  },
  {
   "cell_type": "code",
   "execution_count": null,
   "metadata": {},
   "outputs": [],
   "source": [
    "print('get dataframe indexs: {}'.format(df.index))\n",
    "print('get dataframe columns: {}'.format(df.columns))\n",
    "print()\n",
    "\n",
    "# print('get dataframe item by loc: df.loc[df.index[0],df.columns[3]] -> {}'.format(df.loc[df.index[0],df.columns[3]]))\n",
    "# print('get dataframe item by loc: df.loc[0,\\'stock_code\\'] -> {}'.format(df.loc[0, 'stock_code']))\n",
    "# print()\n",
    "\n",
    "# print('get dataframe item by iloc: df.iloc[0,3] -> {}'.format(df.iloc[0,3]))\n",
    "# print('get dataframe slice by iloc: df.iloc[-4:-1,1:4] -> \\n{}'.format(df.iloc[-4:-1,1:4]))\n",
    "# print('get dataframe column/series by iloc with all rows: df.iloc[:,3] -> \\n{}'.format(df.iloc[:,3]))\n",
    "# print('get dataframe row by iloc with all cols: df.iloc[3,:] -> \\n{}'.format(df.iloc[3,:]))\n",
    "# print('get all dataframe: df.iloc[:,:] -> \\n{}'.format(df.iloc[:,:]))\n",
    "# print()\n",
    "\n",
    "print('order dataframe by index: df.sort_index(ascending=False)) -> \\n{}'.format(df.sort_index(ascending=False).head()))\n",
    "print('order dataframe by column: df.sort_values(\\'stock_code\\', ascending=False)) -> \\n{}'.format(df.sort_values('stock_code', ascending=False).head()))\n",
    "\n"
   ]
  }
 ],
 "metadata": {
  "interpreter": {
   "hash": "d44b1e0abcc89f1a40d17df4fd893cb176dd4a421d0216cdb265b110f0cbb43f"
  },
  "kernelspec": {
   "display_name": "Python 3.8.2 64-bit ('venv-python-notebook': pyenv)",
   "name": "python3"
  },
  "language_info": {
   "codemirror_mode": {
    "name": "ipython",
    "version": 3
   },
   "file_extension": ".py",
   "mimetype": "text/x-python",
   "name": "python",
   "nbconvert_exporter": "python",
   "pygments_lexer": "ipython3",
   "version": "3.8.2"
  },
  "orig_nbformat": 4
 },
 "nbformat": 4,
 "nbformat_minor": 2
}
