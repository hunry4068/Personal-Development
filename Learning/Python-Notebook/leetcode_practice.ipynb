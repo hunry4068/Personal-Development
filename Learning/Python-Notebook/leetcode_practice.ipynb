{
 "cells": [
  {
   "cell_type": "markdown",
   "metadata": {},
   "source": [
    "# Practice"
   ]
  },
  {
   "cell_type": "code",
   "execution_count": null,
   "metadata": {},
   "outputs": [],
   "source": [
    "l = ['a', 'b', 'c']\n",
    "for k, v in enumerate(l):\n",
    "    print('enu key [{}]\\'s value is [{}]'.format(k, v))\n",
    "\n",
    "dic = {'aaa': 'bbbb', 'ccc': 'ddd'}\n",
    "for k in dic:\n",
    "    print('dic key [{}]\\'s value is [{}]'.format(k, dic[k]))\n"
   ]
  },
  {
   "cell_type": "code",
   "execution_count": 3,
   "metadata": {},
   "outputs": [
    {
     "name": "stdout",
     "output_type": "stream",
     "text": [
      "isn't include\n"
     ]
    }
   ],
   "source": [
    "char = 'x'\n",
    "str = 'abcde'\n",
    "print ('include' if char in list(str) else 'isn\\'t include')"
   ]
  },
  {
   "cell_type": "code",
   "execution_count": 32,
   "metadata": {},
   "outputs": [
    {
     "name": "stdout",
     "output_type": "stream",
     "text": [
      "a\n"
     ]
    }
   ],
   "source": [
    "str = 'abcde'\n",
    "print(str[0])"
   ]
  },
  {
   "cell_type": "markdown",
   "metadata": {},
   "source": [
    "# Leetcode Problems"
   ]
  },
  {
   "cell_type": "markdown",
   "metadata": {},
   "source": [
    "# 345. Reverse Vowels of a String"
   ]
  },
  {
   "cell_type": "code",
   "execution_count": 14,
   "metadata": {},
   "outputs": [
    {
     "name": "stdout",
     "output_type": "stream",
     "text": [
      "wiwimoma\n",
      "wiwimoma\n"
     ]
    }
   ],
   "source": [
    "import re\n",
    "\n",
    "class Solution:\n",
    "    # original sol\n",
    "    def reverseVowels_mine(self, s: str) -> str:\n",
    "        keys = ['a', 'e', 'i', 'o', 'u']\n",
    "        chars = list(s) #list of char from str\n",
    "        vowels = []\n",
    "        result = chars\n",
    "        \n",
    "        # 1. find vowels, put them into a ordinary list as key-value structure e.g. tuple(idx, val)\n",
    "        for idx, char in enumerate(chars): #enumerate with loop get index and value\n",
    "            if char.lower() in keys: #str.lower()/str.upper() then apply 'in' keyword \n",
    "                vowels.append((idx, char))\n",
    "        \n",
    "        # 2. loop vowels and use the index to replace value by the opposit item \n",
    "        for idx, pair in enumerate(vowels):\n",
    "            # replace_item = vowels[len(vowels) - 1 - idx]\n",
    "            replace_item = vowels[-(idx + 1)][1]\n",
    "            result[pair[0]] = replace_item\n",
    "\n",
    "        return ''.join(result) #join list into str by empty str\n",
    "        \n",
    "    # leetcode commu recommended sol\n",
    "    def reverseVowels_ref(self, s: str) -> str:\n",
    "        reg = vowel_str = 'aeiouAEIOU'\n",
    "        rps = (vwl for vwl in reversed(s) if vwl in vowel_str)\n",
    "        return re.sub(r'[{}]'.format(vowel_str), lambda m: next(rps), s)\n",
    "\n",
    "\n",
    "\n",
    "# test\n",
    "sol = Solution()\n",
    "print(sol.reverseVowels_mine('wawomimi'))\n",
    "print(sol.reverseVowels_ref('wawomimi'))\n",
    "                    \n"
   ]
  },
  {
   "cell_type": "markdown",
   "metadata": {},
   "source": [
    "# 1094. Car Pooling"
   ]
  },
  {
   "cell_type": "code",
   "execution_count": null,
   "metadata": {},
   "outputs": [],
   "source": [
    "l = [1,2,3]\n",
    "a,b,c = l\n",
    "print(a)\n",
    "print(b)\n",
    "print(c)"
   ]
  },
  {
   "cell_type": "code",
   "execution_count": null,
   "metadata": {},
   "outputs": [],
   "source": [
    "import List\n",
    "\n",
    "class Solution:\n",
    "    def carPooling_mine(self, trips: List[List[int]], capacity: int) -> bool:\n",
    "        check = {} # {dist: passangers}\n",
    "        flag = True\n",
    "        \n",
    "        round = 0\n",
    "        trips_len = len(trips)\n",
    "        while flag and round < trips_len:\n",
    "            trip = trips[round]\n",
    "            psg, now, stop = trip\n",
    "            if psg > capacity: flag = False\n",
    "            \n",
    "            while flag and now < stop:\n",
    "                if now in check.keys():\n",
    "                    check[now] += psg\n",
    "                    if check[now] > capacity: flag = False\n",
    "                else: check[now] = psg\n",
    "                \n",
    "                now += 1\n",
    "                \n",
    "            round += 1\n",
    "\n",
    "        return flag\n",
    "    \n",
    "    def carPooling_ref(self, trips: List[List[int]], capacity: int) -> bool:\n",
    "        \n",
    "        locations = [0 for _ in range(1001)]\n",
    "        \n",
    "        for psg, f, t in trips:\n",
    "            locations[f] += psg\n",
    "            locations[t] -= psg\n",
    "            \n",
    "        for loading in locations:\n",
    "            capacity -= loading\n",
    "            if capacity < 0: return False\n",
    "            \n",
    "        return True\n",
    "                \n",
    "            \n",
    "            \n",
    "        \n",
    "        \n",
    "        \n",
    "        \n",
    "\n",
    "# test\n",
    "sol = Solution()\n",
    "print(sol.carPooling_mine([[2, 1, 3], [3, 3, 6], [1, 5, 7]]), 4)\n"
   ]
  },
  {
   "cell_type": "markdown",
   "metadata": {},
   "source": [
    "# 1022. Sum of Root To Leaf Binary Numbers"
   ]
  },
  {
   "cell_type": "code",
   "execution_count": null,
   "metadata": {},
   "outputs": [],
   "source": [
    "# stupid practice of thinking the sol by misunstood the tree input structure as array \n",
    "# but worth to note\n",
    "\n",
    "\n",
    "\n",
    "# Definition for a binary tree node.\n",
    "# class TreeNode:\n",
    "#     def __init__(self, val=0, left=None, right=None):\n",
    "#         self.val = val\n",
    "#         self.left = left\n",
    "#         self.right = right\n",
    "class Solution:\n",
    "    def sumRootToLeaf(self, root: Optional[TreeNode]) -> int:\n",
    "        route_list = [] #List[List[int]]\n",
    "        self.get_route(root, route_list, 1, [])\n",
    "        \n",
    "        result = 0\n",
    "        for route in route_list:\n",
    "            result += self.bitwise_count(route)\n",
    "        \n",
    "        print(result)\n",
    "\n",
    "    def get_route(self, data, list, node_idx, route):\n",
    "        \n",
    "        # preorder travelse:\n",
    "        # node = data[node_idx]\n",
    "        # left_tree = self.get_route(data, node.left) if node.left else []\n",
    "        # right_tree = self.get_route(data, node.right) if node.right else []\n",
    "        # return [node.val] + left_tree + right_tree\n",
    "        \n",
    "        # separate from root-left-right to root-left and root-right\n",
    "        # then get left and right routes when they arrive leaf\n",
    "        \n",
    "        node = data[node_idx]\n",
    "        route.append(node.val)\n",
    "        # boundry condition: if node is leaf then append route into list and return\n",
    "        if node.left == None and node.right == None:\n",
    "            list.append(route)\n",
    "            return\n",
    "        \n",
    "        if node.left != None:\n",
    "            self.get_route(data, list, node.left, route)\n",
    "            \n",
    "        if node.right != None:\n",
    "            self.get_route(data, list, node.right, route)\n",
    "        \n",
    "    def bitwise_count(self, route):\n",
    "        sum, step, route_len = 0, 0, len(route)\n",
    "        \n",
    "        # len(route) will be updated by pop() in while loop but won't in for loop\n",
    "        while step < route_len:\n",
    "            sum += route.pop() * (2 ** step)\n",
    "            step += 1\n",
    "            \n",
    "        print('sum of route {} is {}'.format(route, sum))\n",
    "        return sum\n"
   ]
  },
  {
   "cell_type": "code",
   "execution_count": null,
   "metadata": {},
   "outputs": [],
   "source": [
    "# Definition for a binary tree node.\n",
    "# class TreeNode:\n",
    "#     def __init__(self, val=0, left=None, right=None):\n",
    "#         self.val = val\n",
    "#         self.left = left\n",
    "#         self.right = right\n",
    "class Solution:\n",
    "    def sumRootToLeaf(self, root: Optional[TreeNode]) -> int:\n",
    "        \n",
    "        # can define a total variable instead of return the cur_sum,\n",
    "        # but the recur need to be a sub-method in sumRootToLeaf,\n",
    "        # then we can use 'nonlocal' prefix to access total variable in recur\n",
    "        \n",
    "        return self.recur(root, 0)\n",
    "    \n",
    "    def recur(self, data, cur_sum):\n",
    "        if data:\n",
    "            print('this node is {}, current sum is {}'.format(data.val, cur_sum))\n",
    "            cur_sum = cur_sum * 2 + data.val\n",
    "            \n",
    "            if data.left and data.right:\n",
    "                return self.recur(data.left, cur_sum) + self.recur(data.right, cur_sum)\n",
    "            elif data.left:\n",
    "                return self.recur(data.left, cur_sum)\n",
    "            elif data.right:\n",
    "                return self.recur(data.right, cur_sum)\n",
    "        \n",
    "        return cur_sum\n"
   ]
  }
 ],
 "metadata": {
  "interpreter": {
   "hash": "d44b1e0abcc89f1a40d17df4fd893cb176dd4a421d0216cdb265b110f0cbb43f"
  },
  "kernelspec": {
   "display_name": "Python 3.8.2 64-bit ('venv-python-notebook': pyenv)",
   "language": "python",
   "name": "python3"
  },
  "language_info": {
   "codemirror_mode": {
    "name": "ipython",
    "version": 3
   },
   "file_extension": ".py",
   "mimetype": "text/x-python",
   "name": "python",
   "nbconvert_exporter": "python",
   "pygments_lexer": "ipython3",
   "version": "3.8.2"
  },
  "orig_nbformat": 4
 },
 "nbformat": 4,
 "nbformat_minor": 2
}
