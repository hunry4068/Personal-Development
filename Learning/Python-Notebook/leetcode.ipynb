{
 "cells": [
  {
   "cell_type": "code",
   "execution_count": null,
   "metadata": {},
   "outputs": [],
   "source": [
    "l = ['a', 'b', 'c']\n",
    "for k, v in enumerate(l):\n",
    "    print('enu key [{}]\\'s value is [{}]'.format(k, v))\n",
    "\n",
    "dic = {'aaa': 'bbbb', 'ccc': 'ddd'}\n",
    "for k in dic:\n",
    "    print('dic key [{}]\\'s value is [{}]'.format(k, dic[k]))\n"
   ]
  },
  {
   "cell_type": "code",
   "execution_count": 3,
   "metadata": {},
   "outputs": [
    {
     "name": "stdout",
     "output_type": "stream",
     "text": [
      "isn't include\n"
     ]
    }
   ],
   "source": [
    "char = 'x'\n",
    "str = 'abcde'\n",
    "print ('include' if char in list(str) else 'isn\\'t include')"
   ]
  },
  {
   "cell_type": "code",
   "execution_count": 32,
   "metadata": {},
   "outputs": [
    {
     "name": "stdout",
     "output_type": "stream",
     "text": [
      "a\n"
     ]
    }
   ],
   "source": [
    "str = 'abcde'\n",
    "print(str[0])"
   ]
  },
  {
   "cell_type": "markdown",
   "metadata": {},
   "source": [
    "345. Reverse Vowels of a String"
   ]
  },
  {
   "cell_type": "code",
   "execution_count": 40,
   "metadata": {},
   "outputs": [
    {
     "name": "stdout",
     "output_type": "stream",
     "text": [
      "wiwimoma\n"
     ]
    }
   ],
   "source": [
    "class Solution:\n",
    "    def reverseVowels(self, s: str) -> str:\n",
    "        keys = ['a', 'e', 'i', 'o', 'u']\n",
    "        chars = list(s) # parse string into a list of single letter\n",
    "        vowels = []\n",
    "        result = chars\n",
    "        \n",
    "        # 1. find vowels, put them into a ordinary list as key-value structure e.g. tuple(idx, val)\n",
    "        for idx, char in enumerate(chars): # parse list into enum to return index and value\n",
    "            if char.lower() in keys: # use in keyword to check whether char is vowel \n",
    "                vowels.append((idx, char))\n",
    "        \n",
    "        # 2. loop vowels and use the index to replace value by the opposit item \n",
    "        for idx, pair in enumerate(vowels):\n",
    "            # replace_item = vowels[len(vowels) - 1 - idx]\n",
    "            replace_item = vowels[-(idx + 1)][1]\n",
    "            result[pair[0]] = replace_item\n",
    "\n",
    "        return ''.join(result) # join list back to string with empty string\n",
    "        \n",
    "sol = solution()\n",
    "print(sol.reverse_vowels('wawomimi'))\n",
    "                    \n"
   ]
  }
 ],
 "metadata": {
  "interpreter": {
   "hash": "d44b1e0abcc89f1a40d17df4fd893cb176dd4a421d0216cdb265b110f0cbb43f"
  },
  "kernelspec": {
   "display_name": "Python 3.8.2 64-bit ('venv-python-notebook': pyenv)",
   "language": "python",
   "name": "python3"
  },
  "language_info": {
   "codemirror_mode": {
    "name": "ipython",
    "version": 3
   },
   "file_extension": ".py",
   "mimetype": "text/x-python",
   "name": "python",
   "nbconvert_exporter": "python",
   "pygments_lexer": "ipython3",
   "version": "3.8.2"
  },
  "orig_nbformat": 4
 },
 "nbformat": 4,
 "nbformat_minor": 2
}
