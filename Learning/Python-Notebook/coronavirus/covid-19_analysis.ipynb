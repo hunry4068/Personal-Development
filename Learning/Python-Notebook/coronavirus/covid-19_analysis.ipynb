{
  "cells": [
    {
      "cell_type": "markdown",
      "metadata": {
        "id": "fiViuXEr_Uzo",
        "colab_type": "text"
      },
      "source": [
        "# Import"
      ]
    },
    {
      "cell_type": "markdown",
      "metadata": {
        "id": "U46GKVoB_rjt",
        "colab_type": "text"
      },
      "source": [
        "import packages"
      ]
    },
    {
      "cell_type": "code",
      "metadata": {
        "id": "fk_n9qWd_IHb",
        "colab_type": "code",
        "colab": {}
      },
      "source": [
        "\n",
        "import numpy as np\n",
        "import pandas as pd\n",
        "\n",
        "## visualization\n",
        "import matplotlib.pyplot as plt\n",
        "import matplotlib.dates as mdates\n",
        "import seaborn as sns\n",
        "\n",
        "from plotnine import *\n",
        "import calmap\n",
        "\n",
        "import plotly.express as px\n",
        "import folium\n",
        "\n",
        "## color pallette\n",
        "cdr = ['#393e46', '#ff2e63', '#30e3ca'] # grey - red - blue\n",
        "idr = ['#f8b400', '#ff2e63', '#30e3ca'] # yellow - red - blue"
      ],
      "execution_count": null,
      "outputs": []
    },
    {
      "cell_type": "markdown",
      "metadata": {
        "id": "i7TQQ6D4_xff",
        "colab_type": "text"
      },
      "source": [
        "import datasets"
      ]
    },
    {
      "cell_type": "code",
      "metadata": {
        "id": "xsDoR3Wq_IHe",
        "colab_type": "code",
        "colab": {}
      },
      "source": [
        "\n",
        "# !ls -lt Coronavirus/dataset/covid_19_clean_complete.csv\n",
        "full_table = pd.read_csv('dataset/covid_19_clean_complete.csv', parse_dates=['Date'])\n",
        "\n",
        "## checking for missing value\n",
        "# full_table.isna().sum()\n",
        "\n",
        "## dataframe info\n",
        "# dir(full_table)\n",
        "full_table.head(3)\n",
        "# full_table.info()"
      ],
      "execution_count": null,
      "outputs": []
    },
    {
      "cell_type": "markdown",
      "metadata": {
        "id": "BWlysyHn_IHh",
        "colab_type": "text"
      },
      "source": [
        "# Preprocessing"
      ]
    },
    {
      "cell_type": "markdown",
      "metadata": {
        "id": "-LmmipksAF8l",
        "colab_type": "text"
      },
      "source": [
        "cleaning data\n"
      ]
    },
    {
      "cell_type": "code",
      "metadata": {
        "id": "A_bq-MVF_IHh",
        "colab_type": "code",
        "colab": {}
      },
      "source": [
        "\n",
        "case_list = ['Confirmed', 'Deaths', 'Recovered', 'Active']\n",
        "\n",
        "## Active Case = Confirmed - Deaths - Recovered\n",
        "full_table[case_list[3]] = full_table[case_list[0]] - full_table[case_list[1]] - full_table[case_list[2]]\n",
        "\n",
        "## filling missing values with NA\n",
        "na_str = 'NA'\n",
        "full_table[case_list] = full_table[case_list].fillna(na_str)\n",
        "full_table.iloc[:,[0]] = full_table[['Province/State']].fillna(na_str)\n",
        "\n",
        "## replacing Mainland china with just China\n",
        "full_table.iloc[:,[1]] = full_table[['Country/Region']].replace('Mainland China', 'China')\n",
        "\n",
        "full_table[full_table.iloc[:,1] == 'Algeria'].sort_values(by = case_list, ascending = False).head(3)"
      ],
      "execution_count": null,
      "outputs": []
    },
    {
      "cell_type": "markdown",
      "metadata": {
        "id": "h0CT1O7GAydz",
        "colab_type": "text"
      },
      "source": [
        "derived tables"
      ]
    },
    {
      "cell_type": "code",
      "metadata": {
        "id": "64uDDe2d_IHj",
        "colab_type": "code",
        "colab": {}
      },
      "source": [
        "\n",
        "# cases in the ships: the 'Grand Princess' condition isn't helpful\n",
        "ship = full_table[full_table['Province/State'].str.contains('Grand Princess')|full_table['Country/Region'].str.contains('Cruise Ship')]\n",
        "# temp_all = full_table[full_table['Province/State'].str.contains('Grand Princess')]\n",
        "# temp_g = full_table[full_table['Province/State'].str.contains('Grand')]\n",
        "# temp_p = full_table[full_table['Province/State'].str.contains('Princess')]\n",
        "\n",
        "# print('instences from Grand or Princess: {all_num}\\ninstences from Grand: {g_num}\\ninstences from Princess: {p_num}'.format(all_num = len(temp_all.index), g_num = len(temp_g.index), p_num = len(temp_p.index)))\n",
        "\n",
        "# china and the row\n",
        "china_filter = full_table['Country/Region'] == 'China'\n",
        "china = full_table[china_filter]\n",
        "row = full_table[china_filter == False]\n",
        "\n",
        "# latest\n",
        "full_latest = full_table[full_table['Date'] == max(full_table['Date'])].reset_index()\n",
        "china_latest = china[china['Date'] == max(china['Date'])].reset_index()\n",
        "row_latest = row[row['Date'] == max(row['Date'])].reset_index()\n",
        "\n",
        "#latest condensed\n",
        "full_latest_grouped = full_latest.groupby('Country/Region')[case_list].sum().reset_index()\n",
        "china_latest_grouped = china_latest.groupby('Country/Region')[case_list].sum().reset_index()\n",
        "row_latest_grouped = row_latest.groupby('Country/Region')[case_list].sum().reset_index()"
      ],
      "execution_count": null,
      "outputs": []
    },
    {
      "cell_type": "markdown",
      "metadata": {
        "id": "9gtyJb3-_IHm",
        "colab_type": "text"
      },
      "source": [
        "# Lateset Data"
      ]
    },
    {
      "cell_type": "markdown",
      "metadata": {
        "id": "giH2bnykBE1v",
        "colab_type": "text"
      },
      "source": [
        "latest complete data"
      ]
    },
    {
      "cell_type": "code",
      "metadata": {
        "id": "ZuUU5Ahp_IHm",
        "colab_type": "code",
        "colab": {}
      },
      "source": [
        "\n",
        "## show the latest record with the max cumulative numbers of each colunm and group \n",
        "temp = full_table.groupby(['Country/Region', 'Province/State'])[case_list].max()\n",
        "\n",
        "# temp.style.background_gradient(cmap = 'Reds')"
      ],
      "execution_count": null,
      "outputs": []
    },
    {
      "cell_type": "markdown",
      "metadata": {
        "id": "AEjBl4prBao2",
        "colab_type": "text"
      },
      "source": [
        "latest condensed data"
      ]
    },
    {
      "cell_type": "code",
      "metadata": {
        "id": "mdYwc7Su_IHo",
        "colab_type": "code",
        "colab": {}
      },
      "source": [
        "temp = full_table.groupby('Date')[case_list].sum().reset_index()\n",
        "temp = temp[temp['Date'] == max(temp['Date'])].reset_index(drop = True)\n",
        "temp['Global Mortality'] = temp['Deaths']/temp['Confirmed']\n",
        "temp['Deaths per 100 Confirmed Cases'] = temp['Global Mortality'] * 100\n",
        "temp.style.background_gradient(cmap = 'Pastel1')"
      ],
      "execution_count": null,
      "outputs": []
    },
    {
      "cell_type": "code",
      "execution_count": null,
      "metadata": {},
      "outputs": [],
      "source": [
        "from plotly.offline import plot, iplot, init_notebook_mode\n",
        "init_notebook_mode(connected = True)"
      ]
    },
    {
      "cell_type": "code",
      "execution_count": null,
      "metadata": {},
      "outputs": [],
      "source": [
        "tm = temp.melt(id_vars = 'Date', value_vars = ['Active', 'Deaths', 'Recovered'])\n",
        "fig = px.treemap(tm, path = ['variable'], values = 'value', height = 400, width = 600)\n",
        "fig.data[0].textinfo = 'label+text+value'\n",
        "fig.show()"
      ]
    }
  ],
  "metadata": {
    "language_info": {
      "name": "python",
      "codemirror_mode": {
        "name": "ipython",
        "version": 3
      },
      "version": "3.8.1-final"
    },
    "orig_nbformat": 2,
    "file_extension": ".py",
    "mimetype": "text/x-python",
    "name": "python",
    "npconvert_exporter": "python",
    "pygments_lexer": "ipython3",
    "version": 3,
    "kernelspec": {
      "name": "python38164bitcec32095674d4fb284e52e8b65b7fa55",
      "display_name": "Python 3.8.1 64-bit"
    },
    "colab": {
      "name": "Copy of covid-19_analysis.ipynb",
      "provenance": []
    }
  },
  "nbformat": 4,
  "nbformat_minor": 0
}