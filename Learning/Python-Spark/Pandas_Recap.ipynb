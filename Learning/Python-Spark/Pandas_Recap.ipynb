{
 "cells": [
  {
   "cell_type": "code",
   "execution_count": null,
   "metadata": {},
   "outputs": [],
   "source": [
    "\n",
    "# ! range can only convert into list by menthod 'list(range(x))' but not [range(x)]\n",
    "myList = list(range(1, 21))[::2] + \\\n",
    "         list(range(1, 21))[::-2] + \\\n",
    "         ['fifty-one', 52, 53.00]\n",
    "\n",
    "# * for each\n",
    "# for item in myList:\n",
    "#     print(item)\n",
    "  \n",
    "# * get length    \n",
    "print(len(myList))\n",
    "\n",
    "# * get type\n",
    "print(type(myList))\n",
    "\n",
    "print(myList[-1])\n",
    "\n",
    "myList.insert(0, tuple(['x', 'y']))\n",
    "print(type(myList[0]))\n"
   ]
  },
  {
   "cell_type": "code",
   "execution_count": null,
   "metadata": {},
   "outputs": [],
   "source": [
    "mySet = set(['py', 'r', 'scala', 'java'])\n",
    "print(mySet)\n",
    "\n",
    "# ! update will update the raw set, doesn't need to return a new set\n",
    "mySet.update({'py', 'go'})\n",
    "print(mySet)\n"
   ]
  },
  {
   "cell_type": "code",
   "execution_count": 12,
   "metadata": {},
   "outputs": [
    {
     "ename": "ModuleNotFoundError",
     "evalue": "No module named 'bs4'",
     "output_type": "error",
     "traceback": [
      "\u001b[0;31m---------------------------------------------------------------------------\u001b[0m",
      "\u001b[0;31mModuleNotFoundError\u001b[0m                       Traceback (most recent call last)",
      "\u001b[0;32m/var/folders/mb/bkxnrx2x4p9d1vnv4t1wyw2h0000gn/T/ipykernel_12545/3689755290.py\u001b[0m in \u001b[0;36m<module>\u001b[0;34m\u001b[0m\n\u001b[1;32m      1\u001b[0m \u001b[0;31m# import requests\u001b[0m\u001b[0;34m\u001b[0m\u001b[0;34m\u001b[0m\u001b[0;34m\u001b[0m\u001b[0m\n\u001b[0;32m----> 2\u001b[0;31m \u001b[0;32mfrom\u001b[0m \u001b[0mbs4\u001b[0m \u001b[0;32mimport\u001b[0m \u001b[0mBeautifulSoup\u001b[0m\u001b[0;34m\u001b[0m\u001b[0;34m\u001b[0m\u001b[0m\n\u001b[0m\u001b[1;32m      3\u001b[0m \u001b[0;34m\u001b[0m\u001b[0m\n\u001b[1;32m      4\u001b[0m \u001b[0;34m\u001b[0m\u001b[0m\n\u001b[1;32m      5\u001b[0m \u001b[0;32mdef\u001b[0m \u001b[0mget_stock_data\u001b[0m\u001b[0;34m(\u001b[0m\u001b[0;34m)\u001b[0m\u001b[0;34m:\u001b[0m\u001b[0;34m\u001b[0m\u001b[0;34m\u001b[0m\u001b[0m\n",
      "\u001b[0;31mModuleNotFoundError\u001b[0m: No module named 'bs4'"
     ]
    }
   ],
   "source": [
    "# import requests\n",
    "from bs4 import BeautifulSoup\n",
    "\n",
    "\n",
    "def get_stock_data():\n",
    "    r = requests.get(\n",
    "        \"https://tw.stock.yahoo.com/d/i/rank.php?t=pri&e=tse&n=100\")\n",
    "    soup = BeautifulSoup(r.text)\n",
    "    stocks = [i.text for i in soup.select(\".name a\")]\n",
    "    prices = [float(i.text) for i in soup.select(\".name+ td\")]\n",
    "    return stocks, prices\n",
    "\n",
    "\n",
    "stocks, prices = get_stock_data()\n",
    "print(stocks)\n",
    "print(prices)\n"
   ]
  },
  {
   "cell_type": "code",
   "execution_count": null,
   "metadata": {},
   "outputs": [],
   "source": [
    "df = pd.DataFrame()\n",
    "\n",
    "ser_obj = pd.Series(range(10, 20))"
   ]
  }
 ],
 "metadata": {
  "interpreter": {
   "hash": "83260e29059b14f041c3e543a763f1c547bd422b3264c059ef7d2cec12495d98"
  },
  "kernelspec": {
   "display_name": "Python 3.8.2 64-bit ('pyspEnv': pyenv)",
   "name": "python3"
  },
  "language_info": {
   "codemirror_mode": {
    "name": "ipython",
    "version": 3
   },
   "file_extension": ".py",
   "mimetype": "text/x-python",
   "name": "python",
   "nbconvert_exporter": "python",
   "pygments_lexer": "ipython3",
   "version": "3.8.2"
  },
  "orig_nbformat": 4
 },
 "nbformat": 4,
 "nbformat_minor": 2
}
