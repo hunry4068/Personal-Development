{
 "cells": [
  {
   "cell_type": "markdown",
   "metadata": {},
   "source": [
    "# Spark test"
   ]
  },
  {
   "cell_type": "code",
   "execution_count": 1,
   "metadata": {},
   "outputs": [
    {
     "name": "stderr",
     "output_type": "stream",
     "text": [
      "21/10/11 21:51:42 WARN Utils: Your hostname, MacBook-Pro.local resolves to a loopback address: 127.0.0.1; using 192.168.0.27 instead (on interface en0)\n",
      "21/10/11 21:51:42 WARN Utils: Set SPARK_LOCAL_IP if you need to bind to another address\n",
      "WARNING: An illegal reflective access operation has occurred\n",
      "WARNING: Illegal reflective access by org.apache.spark.unsafe.Platform (file:/usr/local/Cellar/apache-spark/3.1.2/libexec/jars/spark-unsafe_2.12-3.1.2.jar) to constructor java.nio.DirectByteBuffer(long,int)\n",
      "WARNING: Please consider reporting this to the maintainers of org.apache.spark.unsafe.Platform\n",
      "WARNING: Use --illegal-access=warn to enable warnings of further illegal reflective access operations\n",
      "WARNING: All illegal access operations will be denied in a future release\n",
      "21/10/11 21:51:43 WARN NativeCodeLoader: Unable to load native-hadoop library for your platform... using builtin-java classes where applicable\n",
      "Using Spark's default log4j profile: org/apache/spark/log4j-defaults.properties\n",
      "Setting default log level to \"WARN\".\n",
      "To adjust logging level use sc.setLogLevel(newLevel). For SparkR, use setLogLevel(newLevel).\n"
     ]
    }
   ],
   "source": [
    "# import findspark\n",
    "# findspark.init()\n",
    "import sys\n",
    "from random import random\n",
    "from operator import add\n",
    "from pyspark.sql import SparkSession as ss\n",
    "\n",
    "spark = ss.builder.appName('PythonPi').getOrCreate()\n"
   ]
  },
  {
   "cell_type": "code",
   "execution_count": 2,
   "metadata": {},
   "outputs": [
    {
     "name": "stderr",
     "output_type": "stream",
     "text": []
    },
    {
     "name": "stdout",
     "output_type": "stream",
     "text": [
      "Pi is roughly %f: 3.141688\n"
     ]
    },
    {
     "name": "stderr",
     "output_type": "stream",
     "text": []
    }
   ],
   "source": [
    "partitions = 4\n",
    "n = 1000000 * partitions\n",
    "\n",
    "def f(_):\n",
    "    x = random() * 2 - 1\n",
    "    y = random() * 2 - 1\n",
    "    return 1 if x ** 2 + y ** 2 <= 1 else 0\n",
    "\n",
    "count = spark.sparkContext.parallelize(range(1, n + 1), partitions).map(f).reduce(add)\n",
    "print('Pi is roughly %f:', (4.0 * count / n))"
   ]
  },
  {
   "cell_type": "code",
   "execution_count": 3,
   "metadata": {},
   "outputs": [
    {
     "data": {
      "text/plain": [
       "1000000000"
      ]
     },
     "execution_count": 3,
     "metadata": {},
     "output_type": "execute_result"
    }
   ],
   "source": [
    "spark.range(1000 * 1000 * 1000).count()"
   ]
  },
  {
   "cell_type": "code",
   "execution_count": null,
   "metadata": {},
   "outputs": [],
   "source": [
    "# spark = SparkSession.builder.master('local').getOrCreate()\n",
    "# stack_df = spark.read.csv('sample.txt', header = True, sep = '\\t', inferSchema = True)\n",
    "# stack_df.filter(stack_df.name == 'vikas').show()\n",
    "# stack_df.printSchema()\n",
    "# print(stack_df.columns)\n",
    "# stack_df.crosstab('age', 'gender').show()"
   ]
  },
  {
   "cell_type": "markdown",
   "metadata": {},
   "source": [
    "# Pandas test"
   ]
  },
  {
   "cell_type": "code",
   "execution_count": 3,
   "metadata": {},
   "outputs": [
    {
     "name": "stderr",
     "output_type": "stream",
     "text": [
      "/Users/Eric/.pyenv/versions/3.8.2/envs/venv-python-spark/lib/python3.8/site-packages/pandas/compat/__init__.py:124: UserWarning: Could not import the lzma module. Your installed Python is incomplete. Attempting to use lzma compression will result in a RuntimeError.\n",
      "  warnings.warn(msg)\n"
     ]
    },
    {
     "data": {
      "text/html": [
       "<div>\n",
       "<style scoped>\n",
       "    .dataframe tbody tr th:only-of-type {\n",
       "        vertical-align: middle;\n",
       "    }\n",
       "\n",
       "    .dataframe tbody tr th {\n",
       "        vertical-align: top;\n",
       "    }\n",
       "\n",
       "    .dataframe thead th {\n",
       "        text-align: right;\n",
       "    }\n",
       "</style>\n",
       "<table border=\"1\" class=\"dataframe\">\n",
       "  <thead>\n",
       "    <tr style=\"text-align: right;\">\n",
       "      <th></th>\n",
       "      <th>Module_code</th>\n",
       "      <th>Module_name</th>\n",
       "      <th>Score</th>\n",
       "      <th>Weight</th>\n",
       "    </tr>\n",
       "  </thead>\n",
       "  <tbody>\n",
       "    <tr>\n",
       "      <th>0</th>\n",
       "      <td>INF6060</td>\n",
       "      <td>Information Retrieval</td>\n",
       "      <td>62.0</td>\n",
       "      <td>15</td>\n",
       "    </tr>\n",
       "    <tr>\n",
       "      <th>1</th>\n",
       "      <td>INF6033</td>\n",
       "      <td>Data and Society</td>\n",
       "      <td>66.4</td>\n",
       "      <td>15</td>\n",
       "    </tr>\n",
       "    <tr>\n",
       "      <th>2</th>\n",
       "      <td>INF6027</td>\n",
       "      <td>Introduction to Data Science</td>\n",
       "      <td>58.0</td>\n",
       "      <td>15</td>\n",
       "    </tr>\n",
       "    <tr>\n",
       "      <th>3</th>\n",
       "      <td>INF6029</td>\n",
       "      <td>Data Analysis</td>\n",
       "      <td>56.4</td>\n",
       "      <td>15</td>\n",
       "    </tr>\n",
       "    <tr>\n",
       "      <th>4</th>\n",
       "      <td>INF6032</td>\n",
       "      <td>Big Data Analytics</td>\n",
       "      <td>66.0</td>\n",
       "      <td>15</td>\n",
       "    </tr>\n",
       "    <tr>\n",
       "      <th>5</th>\n",
       "      <td>INF6050</td>\n",
       "      <td>Database Design</td>\n",
       "      <td>80.2</td>\n",
       "      <td>15</td>\n",
       "    </tr>\n",
       "    <tr>\n",
       "      <th>6</th>\n",
       "      <td>INF6028</td>\n",
       "      <td>Data Mining and Visualisation</td>\n",
       "      <td>75.0</td>\n",
       "      <td>15</td>\n",
       "    </tr>\n",
       "    <tr>\n",
       "      <th>7</th>\n",
       "      <td>INF6430</td>\n",
       "      <td>User Interface Design</td>\n",
       "      <td>60.0</td>\n",
       "      <td>15</td>\n",
       "    </tr>\n",
       "    <tr>\n",
       "      <th>8</th>\n",
       "      <td>INF6340</td>\n",
       "      <td>Research Methods</td>\n",
       "      <td>75.0</td>\n",
       "      <td>15</td>\n",
       "    </tr>\n",
       "    <tr>\n",
       "      <th>9</th>\n",
       "      <td>INF6000</td>\n",
       "      <td>Dissertation</td>\n",
       "      <td>80.0</td>\n",
       "      <td>45</td>\n",
       "    </tr>\n",
       "  </tbody>\n",
       "</table>\n",
       "</div>"
      ],
      "text/plain": [
       "  Module_code                    Module_name  Score  Weight\n",
       "0     INF6060          Information Retrieval   62.0      15\n",
       "1     INF6033               Data and Society   66.4      15\n",
       "2     INF6027   Introduction to Data Science   58.0      15\n",
       "3     INF6029                  Data Analysis   56.4      15\n",
       "4     INF6032             Big Data Analytics   66.0      15\n",
       "5     INF6050                Database Design   80.2      15\n",
       "6     INF6028  Data Mining and Visualisation   75.0      15\n",
       "7     INF6430          User Interface Design   60.0      15\n",
       "8     INF6340               Research Methods   75.0      15\n",
       "9     INF6000                   Dissertation   80.0      45"
      ]
     },
     "execution_count": 3,
     "metadata": {},
     "output_type": "execute_result"
    }
   ],
   "source": [
    "# !pip install pandas\n",
    "import pandas as pd\n",
    "\n",
    "# raw data frame\n",
    "module_score = pd.DataFrame()\n",
    "\n",
    "module_score['Module_code'] = ['INF6060', 'INF6033', 'INF6027', 'INF6029',\n",
    "                               'INF6032', 'INF6050', 'INF6028', 'INF6430', 'INF6340', 'INF6000']\n",
    "module_score['Module_name'] = ['Information Retrieval', 'Data and Society', 'Introduction to Data Science', 'Data Analysis',\n",
    "                               'Big Data Analytics', 'Database Design', 'Data Mining and Visualisation', 'User Interface Design', 'Research Methods', 'Dissertation']\n",
    "module_score['Score'] = [62, 66.4, 58, 56.4, 66, 80.2, 75, 60, 75, 80]\n",
    "module_score['Weight'] = [15, 15, 15, 15, 15, 15, 15, 15, 15, 45]\n",
    "\n",
    "module_score"
   ]
  },
  {
   "cell_type": "code",
   "execution_count": 4,
   "metadata": {},
   "outputs": [
    {
     "data": {
      "text/html": [
       "<div>\n",
       "<style scoped>\n",
       "    .dataframe tbody tr th:only-of-type {\n",
       "        vertical-align: middle;\n",
       "    }\n",
       "\n",
       "    .dataframe tbody tr th {\n",
       "        vertical-align: top;\n",
       "    }\n",
       "\n",
       "    .dataframe thead th {\n",
       "        text-align: right;\n",
       "    }\n",
       "</style>\n",
       "<table border=\"1\" class=\"dataframe\">\n",
       "  <thead>\n",
       "    <tr style=\"text-align: right;\">\n",
       "      <th></th>\n",
       "      <th>module_name</th>\n",
       "      <th>score</th>\n",
       "      <th>weight</th>\n",
       "    </tr>\n",
       "    <tr>\n",
       "      <th>module_code</th>\n",
       "      <th></th>\n",
       "      <th></th>\n",
       "      <th></th>\n",
       "    </tr>\n",
       "  </thead>\n",
       "  <tbody>\n",
       "    <tr>\n",
       "      <th>INF6060</th>\n",
       "      <td>Information Retrieval</td>\n",
       "      <td>62.0</td>\n",
       "      <td>15</td>\n",
       "    </tr>\n",
       "    <tr>\n",
       "      <th>INF6033</th>\n",
       "      <td>Data and Society</td>\n",
       "      <td>66.4</td>\n",
       "      <td>15</td>\n",
       "    </tr>\n",
       "    <tr>\n",
       "      <th>INF6027</th>\n",
       "      <td>Introduction to Data Science</td>\n",
       "      <td>58.0</td>\n",
       "      <td>15</td>\n",
       "    </tr>\n",
       "    <tr>\n",
       "      <th>INF6029</th>\n",
       "      <td>Data Analysis</td>\n",
       "      <td>56.4</td>\n",
       "      <td>15</td>\n",
       "    </tr>\n",
       "    <tr>\n",
       "      <th>INF6032</th>\n",
       "      <td>Big Data Analytics</td>\n",
       "      <td>66.0</td>\n",
       "      <td>15</td>\n",
       "    </tr>\n",
       "    <tr>\n",
       "      <th>INF6050</th>\n",
       "      <td>Database Design</td>\n",
       "      <td>80.2</td>\n",
       "      <td>15</td>\n",
       "    </tr>\n",
       "    <tr>\n",
       "      <th>INF6028</th>\n",
       "      <td>Data Mining and Visualisation</td>\n",
       "      <td>75.0</td>\n",
       "      <td>15</td>\n",
       "    </tr>\n",
       "    <tr>\n",
       "      <th>INF6430</th>\n",
       "      <td>User Interface Design</td>\n",
       "      <td>60.0</td>\n",
       "      <td>15</td>\n",
       "    </tr>\n",
       "    <tr>\n",
       "      <th>INF6340</th>\n",
       "      <td>Research Methods</td>\n",
       "      <td>75.0</td>\n",
       "      <td>15</td>\n",
       "    </tr>\n",
       "    <tr>\n",
       "      <th>INF6000</th>\n",
       "      <td>Dissertation</td>\n",
       "      <td>80.0</td>\n",
       "      <td>45</td>\n",
       "    </tr>\n",
       "  </tbody>\n",
       "</table>\n",
       "</div>"
      ],
      "text/plain": [
       "                               module_name  score  weight\n",
       "module_code                                              \n",
       "INF6060              Information Retrieval   62.0      15\n",
       "INF6033                   Data and Society   66.4      15\n",
       "INF6027       Introduction to Data Science   58.0      15\n",
       "INF6029                      Data Analysis   56.4      15\n",
       "INF6032                 Big Data Analytics   66.0      15\n",
       "INF6050                    Database Design   80.2      15\n",
       "INF6028      Data Mining and Visualisation   75.0      15\n",
       "INF6430              User Interface Design   60.0      15\n",
       "INF6340                   Research Methods   75.0      15\n",
       "INF6000                       Dissertation   80.0      45"
      ]
     },
     "execution_count": 4,
     "metadata": {},
     "output_type": "execute_result"
    }
   ],
   "source": [
    "#lowercase columns\n",
    "def lowercase_cols(df):\n",
    "    df.columns = df.columns.str.lower()\n",
    "    return df\n",
    "\n",
    "def set_index(df, col_name = ''):\n",
    "    if col_name in df.columns:\n",
    "        df = df.set_index(col_name)\n",
    "    return df\n",
    "\n",
    "(module_score.pipe(lowercase_cols).pipe(set_index, 'module_code'))"
   ]
  },
  {
   "cell_type": "code",
   "execution_count": 5,
   "metadata": {},
   "outputs": [
    {
     "data": {
      "text/html": [
       "<div>\n",
       "<style scoped>\n",
       "    .dataframe tbody tr th:only-of-type {\n",
       "        vertical-align: middle;\n",
       "    }\n",
       "\n",
       "    .dataframe tbody tr th {\n",
       "        vertical-align: top;\n",
       "    }\n",
       "\n",
       "    .dataframe thead th {\n",
       "        text-align: right;\n",
       "    }\n",
       "</style>\n",
       "<table border=\"1\" class=\"dataframe\">\n",
       "  <thead>\n",
       "    <tr style=\"text-align: right;\">\n",
       "      <th></th>\n",
       "      <th>module_code</th>\n",
       "      <th>module_name</th>\n",
       "      <th>score</th>\n",
       "      <th>weight</th>\n",
       "      <th>weighted_score</th>\n",
       "    </tr>\n",
       "  </thead>\n",
       "  <tbody>\n",
       "    <tr>\n",
       "      <th>0</th>\n",
       "      <td>INF6060</td>\n",
       "      <td>Information Retrieval</td>\n",
       "      <td>62.0</td>\n",
       "      <td>15</td>\n",
       "      <td>5.166667</td>\n",
       "    </tr>\n",
       "    <tr>\n",
       "      <th>1</th>\n",
       "      <td>INF6033</td>\n",
       "      <td>Data and Society</td>\n",
       "      <td>66.4</td>\n",
       "      <td>15</td>\n",
       "      <td>5.533333</td>\n",
       "    </tr>\n",
       "    <tr>\n",
       "      <th>2</th>\n",
       "      <td>INF6027</td>\n",
       "      <td>Introduction to Data Science</td>\n",
       "      <td>58.0</td>\n",
       "      <td>15</td>\n",
       "      <td>4.833333</td>\n",
       "    </tr>\n",
       "    <tr>\n",
       "      <th>3</th>\n",
       "      <td>INF6029</td>\n",
       "      <td>Data Analysis</td>\n",
       "      <td>56.4</td>\n",
       "      <td>15</td>\n",
       "      <td>4.700000</td>\n",
       "    </tr>\n",
       "    <tr>\n",
       "      <th>4</th>\n",
       "      <td>INF6032</td>\n",
       "      <td>Big Data Analytics</td>\n",
       "      <td>66.0</td>\n",
       "      <td>15</td>\n",
       "      <td>5.500000</td>\n",
       "    </tr>\n",
       "    <tr>\n",
       "      <th>5</th>\n",
       "      <td>INF6050</td>\n",
       "      <td>Database Design</td>\n",
       "      <td>80.2</td>\n",
       "      <td>15</td>\n",
       "      <td>6.683333</td>\n",
       "    </tr>\n",
       "    <tr>\n",
       "      <th>6</th>\n",
       "      <td>INF6028</td>\n",
       "      <td>Data Mining and Visualisation</td>\n",
       "      <td>75.0</td>\n",
       "      <td>15</td>\n",
       "      <td>6.250000</td>\n",
       "    </tr>\n",
       "    <tr>\n",
       "      <th>7</th>\n",
       "      <td>INF6430</td>\n",
       "      <td>User Interface Design</td>\n",
       "      <td>60.0</td>\n",
       "      <td>15</td>\n",
       "      <td>5.000000</td>\n",
       "    </tr>\n",
       "    <tr>\n",
       "      <th>8</th>\n",
       "      <td>INF6340</td>\n",
       "      <td>Research Methods</td>\n",
       "      <td>75.0</td>\n",
       "      <td>15</td>\n",
       "      <td>6.250000</td>\n",
       "    </tr>\n",
       "    <tr>\n",
       "      <th>9</th>\n",
       "      <td>INF6000</td>\n",
       "      <td>Dissertation</td>\n",
       "      <td>80.0</td>\n",
       "      <td>45</td>\n",
       "      <td>20.000000</td>\n",
       "    </tr>\n",
       "  </tbody>\n",
       "</table>\n",
       "</div>"
      ],
      "text/plain": [
       "  module_code                    module_name  score  weight  weighted_score\n",
       "0     INF6060          Information Retrieval   62.0      15        5.166667\n",
       "1     INF6033               Data and Society   66.4      15        5.533333\n",
       "2     INF6027   Introduction to Data Science   58.0      15        4.833333\n",
       "3     INF6029                  Data Analysis   56.4      15        4.700000\n",
       "4     INF6032             Big Data Analytics   66.0      15        5.500000\n",
       "5     INF6050                Database Design   80.2      15        6.683333\n",
       "6     INF6028  Data Mining and Visualisation   75.0      15        6.250000\n",
       "7     INF6430          User Interface Design   60.0      15        5.000000\n",
       "8     INF6340               Research Methods   75.0      15        6.250000\n",
       "9     INF6000                   Dissertation   80.0      45       20.000000"
      ]
     },
     "execution_count": 5,
     "metadata": {},
     "output_type": "execute_result"
    }
   ],
   "source": [
    "credit_total = module_score['weight'].sum()\n",
    "\n",
    "module_score['weighted_score'] = module_score.apply(\n",
    "    lambda item: item['score'] * item['weight'] / credit_total, axis = 1)\n",
    "module_score['weighted_score'].sum()\n",
    "module_score"
   ]
  },
  {
   "cell_type": "markdown",
   "metadata": {},
   "source": [
    "# Recap Pyspark"
   ]
  },
  {
   "cell_type": "code",
   "execution_count": 6,
   "metadata": {},
   "outputs": [],
   "source": [
    "from pyspark.sql import SparkSession as ss\n",
    "\n",
    "spark = ss.builder.master('local').getOrCreate()\n"
   ]
  },
  {
   "cell_type": "code",
   "execution_count": 7,
   "metadata": {},
   "outputs": [
    {
     "name": "stderr",
     "output_type": "stream",
     "text": []
    },
    {
     "name": "stdout",
     "output_type": "stream",
     "text": [
      "+-----------+----------------+-----+------+--------------+\n",
      "|module_code|     module_name|score|weight|weighted_score|\n",
      "+-----------+----------------+-----+------+--------------+\n",
      "|    INF6000|    Dissertation| 80.0|    45|            20|\n",
      "|    INF6050| Database Design| 80.2|    15|             6|\n",
      "|    INF6340|Research Methods| 75.0|    15|             6|\n",
      "+-----------+----------------+-----+------+--------------+\n",
      "only showing top 3 rows\n",
      "\n"
     ]
    },
    {
     "data": {
      "text/plain": [
       "[Row(module_code='INF6060', module_name='Information Retrieval', score=62.0, weight=15, weighted_score=5),\n",
       " Row(module_code='INF6033', module_name='Data and Society', score=66.4, weight=15, weighted_score=5),\n",
       " Row(module_code='INF6027', module_name='Introduction to Data Science', score=58.0, weight=15, weighted_score=4)]"
      ]
     },
     "execution_count": 7,
     "metadata": {},
     "output_type": "execute_result"
    }
   ],
   "source": [
    "df = spark.createDataFrame(module_score).persist()\n",
    "# df.describe()\n",
    "# df.printSchema()\n",
    "# df.show()\n",
    "\n",
    "df = df.withColumn('weighted_score', df['weighted_score'].cast('integer'))\n",
    "df.orderBy('weighted_score', ascending=0).show(3) # return as dataframe\n",
    "\n",
    "df.collect()[0:3] # return as row type and query top 3 items"
   ]
  }
 ],
 "metadata": {
  "interpreter": {
   "hash": "ac0c2864dd6bb1d5ded0c84d10e39682d4e82fc96b7c0a43f12ebf0c63401332"
  },
  "kernelspec": {
   "display_name": "Python 3.8.2 64-bit ('venv-python-spark': pyenv)",
   "name": "python3"
  },
  "language_info": {
   "codemirror_mode": {
    "name": "ipython",
    "version": 3
   },
   "file_extension": ".py",
   "mimetype": "text/x-python",
   "name": "python",
   "nbconvert_exporter": "python",
   "pygments_lexer": "ipython3",
   "version": "3.8.2"
  },
  "orig_nbformat": 4
 },
 "nbformat": 4,
 "nbformat_minor": 2
}
