{
 "nbformat": 4,
 "nbformat_minor": 2,
 "metadata": {
  "language_info": {
   "name": "python",
   "codemirror_mode": {
    "name": "ipython",
    "version": 3
   },
   "version": "3.8.1-final"
  },
  "orig_nbformat": 2,
  "file_extension": ".py",
  "mimetype": "text/x-python",
  "name": "python",
  "npconvert_exporter": "python",
  "pygments_lexer": "ipython3",
  "version": 3,
  "kernelspec": {
   "name": "python38164bitcec32095674d4fb284e52e8b65b7fa55",
   "display_name": "Python 3.8.1 64-bit"
  }
 },
 "cells": [
  {
   "cell_type": "code",
   "execution_count": null,
   "metadata": {},
   "outputs": [],
   "source": [
    "\n",
    "import numpy as np\n",
    "import pandas as pd\n",
    "\n",
    "## visualization\n",
    "import matplotlib.pyplot as plt\n",
    "import matplotlib.dates as mdates\n",
    "import seaborn as sns\n",
    "\n",
    "from plotnine import *\n",
    "import calmap\n",
    "\n",
    "import plotly.express as px\n",
    "import folium\n",
    "\n",
    "## color pallette\n",
    "cdr = ['#393e46', '#ff2e63', '#30e3ca'] # grey - red - blue\n",
    "idr = ['#f8b400', '#ff2e63', '#30e3ca'] # yellow - red - blue"
   ]
  },
  {
   "cell_type": "code",
   "execution_count": null,
   "metadata": {},
   "outputs": [],
   "source": [
    "## importing datasets\n",
    "\n",
    "# !ls -lt Coronavirus/dataset/covid_19_clean_complete.csv\n",
    "full_table = pd.read_csv('dataset/covid_19_clean_complete.csv', parse_dates=['Date'])\n",
    "\n",
    "## checking for missing value\n",
    "# full_table.isna().sum()\n",
    "\n",
    "## dataframe info\n",
    "# dir(full_table)\n",
    "full_table.head(3)\n",
    "# full_table.info()"
   ]
  },
  {
   "cell_type": "markdown",
   "metadata": {},
   "source": [
    "Preprocessing\n"
   ],
   "execution_count": null,
   "outputs": []
  },
  {
   "cell_type": "code",
   "execution_count": null,
   "metadata": {},
   "outputs": [],
   "source": [
    "## cleaning data\n",
    "\n",
    "case_list = ['Confirmed', 'Deaths', 'Recovered', 'Active']\n",
    "\n",
    "## Active Case = Confirmed - Deaths - Recovered\n",
    "full_table[case_list[3]] = full_table[case_list[0]] - full_table[case_list[1]] - full_table[case_list[2]]\n",
    "\n",
    "na_str = 'NA'\n",
    "\n",
    "## filling missing values with NA\n",
    "full_table[case_list] = full_table[case_list].fillna(na_str)\n",
    "full_table.iloc[:,[0]] = full_table[['Province/State']].fillna(na_str)\n",
    "\n",
    "## replacing Mainland china with just China\n",
    "full_table.iloc[:,[1]] = full_table[['Country/Region']].replace('Mainland China', 'China')\n",
    "\n",
    "full_table[full_table.iloc[:,1] == 'Algeria'].sort_values(by = case_list, ascending = False).head(3)"
   ]
  },
  {
   "cell_type": "code",
   "execution_count": null,
   "metadata": {},
   "outputs": [],
   "source": [
    "\n",
    "## derived tables\n",
    "\n",
    "# case_list in the ships\n",
    "ship = full_table[full_table['Province/State'].str.contains('Grand Princess')|full_table['Country/Region'].str.contains('Cruise Ship')]\n",
    "\n",
    "# china and the row\n",
    "china_filter = full_table['Country/Region'] == 'China'\n",
    "china = full_table[china_filter]\n",
    "row = full_table[china_filter == False]\n",
    "\n",
    "# latest\n",
    "full_latest = full_table[full_table['Date'] == max(full_table['Date'])].reset_index()\n",
    "china_latest = china[china['Date'] == max(china['Date'])].reset_index()\n",
    "row_latest = row[row['Date'] == max(row['Date'])].reset_index()\n",
    "\n",
    "#latest condensed\n",
    "full_latest_grouped = full_latest.groupby('Country/Region')[case_list].sum().reset_index()\n",
    "china_latest_grouped = china_latest.groupby('Country/Region')[case_list].sum().reset_index()\n",
    "row_latest_grouped = row_latest.groupby('Country/Region')[case_list].sum().reset_index()"
   ]
  },
  {
   "cell_type": "markdown",
   "metadata": {},
   "source": [
    "Lateset Data"
   ],
   "execution_count": null,
   "outputs": []
  },
  {
   "cell_type": "code",
   "execution_count": null,
   "metadata": {},
   "outputs": [],
   "source": [
    "\n",
    "## show the latest record with the max cumulative numbers of each colunm and group \n",
    "temp = full_table.groupby(['Country/Region', 'Province/State'])[case_list].max()\n",
    "\n",
    "# temp.style.background_gradient(cmap = 'Reds')"
   ]
  },
  {
   "cell_type": "code",
   "execution_count": null,
   "metadata": {},
   "outputs": [],
   "source": []
  }
 ]
}