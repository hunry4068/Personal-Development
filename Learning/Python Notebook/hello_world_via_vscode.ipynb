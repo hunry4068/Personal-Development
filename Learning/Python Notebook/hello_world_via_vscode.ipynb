{
 "nbformat": 4,
 "nbformat_minor": 2,
 "metadata": {
  "language_info": {
   "name": "python",
   "codemirror_mode": {
    "name": "ipython",
    "version": 3
   },
   "version": "3.8.1-final"
  },
  "orig_nbformat": 2,
  "file_extension": ".py",
  "mimetype": "text/x-python",
  "name": "python",
  "npconvert_exporter": "python",
  "pygments_lexer": "ipython3",
  "version": 3,
  "kernelspec": {
   "name": "python38164bitcec32095674d4fb284e52e8b65b7fa55",
   "display_name": "Python 3.8.1 64-bit"
  }
 },
 "cells": [
  {
   "cell_type": "markdown",
   "metadata": {},
   "source": [
    "Successful run at Mac with v3.8.1!"
   ]
  },
  {
   "cell_type": "markdown",
   "metadata": {},
   "source": [
    "Import Libraries"
   ]
  },
  {
   "cell_type": "code",
   "execution_count": 6,
   "metadata": {},
   "outputs": [],
   "source": [
    "# pip install pandas\n",
    "\n",
    "import pandas as pd"
   ]
  },
  {
   "cell_type": "code",
   "execution_count": 13,
   "metadata": {},
   "outputs": [
    {
     "data": {
      "text/html": "<div>\n<style scoped>\n    .dataframe tbody tr th:only-of-type {\n        vertical-align: middle;\n    }\n\n    .dataframe tbody tr th {\n        vertical-align: top;\n    }\n\n    .dataframe thead th {\n        text-align: right;\n    }\n</style>\n<table border=\"1\" class=\"dataframe\">\n  <thead>\n    <tr style=\"text-align: right;\">\n      <th></th>\n      <th>Module_code</th>\n      <th>Module_name</th>\n      <th>Score</th>\n      <th>Weight</th>\n    </tr>\n  </thead>\n  <tbody>\n    <tr>\n      <th>0</th>\n      <td>INF6060</td>\n      <td>Information Retrieval</td>\n      <td>62.0</td>\n      <td>15</td>\n    </tr>\n    <tr>\n      <th>1</th>\n      <td>INF6033</td>\n      <td>Data and Society</td>\n      <td>66.4</td>\n      <td>15</td>\n    </tr>\n    <tr>\n      <th>2</th>\n      <td>INF6027</td>\n      <td>Introduction to Data Science</td>\n      <td>58.0</td>\n      <td>15</td>\n    </tr>\n    <tr>\n      <th>3</th>\n      <td>INF6029</td>\n      <td>Data Analysis</td>\n      <td>56.4</td>\n      <td>15</td>\n    </tr>\n    <tr>\n      <th>4</th>\n      <td>INF6032</td>\n      <td>Big Data Analytics</td>\n      <td>66.0</td>\n      <td>15</td>\n    </tr>\n    <tr>\n      <th>5</th>\n      <td>INF6050</td>\n      <td>Database Design</td>\n      <td>80.2</td>\n      <td>15</td>\n    </tr>\n    <tr>\n      <th>6</th>\n      <td>INF6028</td>\n      <td>Data Mining and Visualisation</td>\n      <td>75.0</td>\n      <td>15</td>\n    </tr>\n    <tr>\n      <th>7</th>\n      <td>INF6430</td>\n      <td>User Interface Design</td>\n      <td>60.0</td>\n      <td>15</td>\n    </tr>\n    <tr>\n      <th>8</th>\n      <td>INF6340</td>\n      <td>Research Methods</td>\n      <td>75.0</td>\n      <td>15</td>\n    </tr>\n    <tr>\n      <th>9</th>\n      <td>INF6000</td>\n      <td>Dissertation</td>\n      <td>80.0</td>\n      <td>45</td>\n    </tr>\n  </tbody>\n</table>\n</div>",
      "text/plain": "  Module_code                    Module_name  Score  Weight\n0     INF6060          Information Retrieval   62.0      15\n1     INF6033               Data and Society   66.4      15\n2     INF6027   Introduction to Data Science   58.0      15\n3     INF6029                  Data Analysis   56.4      15\n4     INF6032             Big Data Analytics   66.0      15\n5     INF6050                Database Design   80.2      15\n6     INF6028  Data Mining and Visualisation   75.0      15\n7     INF6430          User Interface Design   60.0      15\n8     INF6340               Research Methods   75.0      15\n9     INF6000                   Dissertation   80.0      45"
     },
     "execution_count": 13,
     "metadata": {},
     "output_type": "execute_result"
    }
   ],
   "source": [
    "# create a dataframe\n",
    "module_score = pd.DataFrame()\n",
    "\n",
    "# create columns\n",
    "module_score['Module_code'] = ['INF6060','INF6033','INF6027','INF6029','INF6032','INF6050','INF6028','INF6430','INF6340','INF6000']\n",
    "module_score['Module_name'] = ['Information Retrieval','Data and Society','Introduction to Data Science','Data Analysis','Big Data Analytics','Database Design','Data Mining and Visualisation','User Interface Design','Research Methods','Dissertation']\n",
    "module_score['Score'] = [62,66.4,58,56.4,66,80.2,75,60,75,80]\n",
    "module_score['Weight'] = [15,15,15,15,15,15,15,15,15,45]\n",
    "\n",
    "module_score"
   ]
  },
  {
   "cell_type": "code",
   "execution_count": 14,
   "metadata": {},
   "outputs": [
    {
     "data": {
      "text/html": "<div>\n<style scoped>\n    .dataframe tbody tr th:only-of-type {\n        vertical-align: middle;\n    }\n\n    .dataframe tbody tr th {\n        vertical-align: top;\n    }\n\n    .dataframe thead th {\n        text-align: right;\n    }\n</style>\n<table border=\"1\" class=\"dataframe\">\n  <thead>\n    <tr style=\"text-align: right;\">\n      <th></th>\n      <th>module_code</th>\n      <th>module_name</th>\n      <th>score</th>\n      <th>weight</th>\n    </tr>\n  </thead>\n  <tbody>\n    <tr>\n      <th>0</th>\n      <td>INF6060</td>\n      <td>Information Retrieval</td>\n      <td>62.0</td>\n      <td>15</td>\n    </tr>\n    <tr>\n      <th>1</th>\n      <td>INF6033</td>\n      <td>Data and Society</td>\n      <td>66.4</td>\n      <td>15</td>\n    </tr>\n    <tr>\n      <th>2</th>\n      <td>INF6027</td>\n      <td>Introduction to Data Science</td>\n      <td>58.0</td>\n      <td>15</td>\n    </tr>\n    <tr>\n      <th>3</th>\n      <td>INF6029</td>\n      <td>Data Analysis</td>\n      <td>56.4</td>\n      <td>15</td>\n    </tr>\n    <tr>\n      <th>4</th>\n      <td>INF6032</td>\n      <td>Big Data Analytics</td>\n      <td>66.0</td>\n      <td>15</td>\n    </tr>\n    <tr>\n      <th>5</th>\n      <td>INF6050</td>\n      <td>Database Design</td>\n      <td>80.2</td>\n      <td>15</td>\n    </tr>\n    <tr>\n      <th>6</th>\n      <td>INF6028</td>\n      <td>Data Mining and Visualisation</td>\n      <td>75.0</td>\n      <td>15</td>\n    </tr>\n    <tr>\n      <th>7</th>\n      <td>INF6430</td>\n      <td>User Interface Design</td>\n      <td>60.0</td>\n      <td>15</td>\n    </tr>\n    <tr>\n      <th>8</th>\n      <td>INF6340</td>\n      <td>Research Methods</td>\n      <td>75.0</td>\n      <td>15</td>\n    </tr>\n    <tr>\n      <th>9</th>\n      <td>INF6000</td>\n      <td>Dissertation</td>\n      <td>80.0</td>\n      <td>45</td>\n    </tr>\n  </tbody>\n</table>\n</div>",
      "text/plain": "  module_code                    module_name  score  weight\n0     INF6060          Information Retrieval   62.0      15\n1     INF6033               Data and Society   66.4      15\n2     INF6027   Introduction to Data Science   58.0      15\n3     INF6029                  Data Analysis   56.4      15\n4     INF6032             Big Data Analytics   66.0      15\n5     INF6050                Database Design   80.2      15\n6     INF6028  Data Mining and Visualisation   75.0      15\n7     INF6430          User Interface Design   60.0      15\n8     INF6340               Research Methods   75.0      15\n9     INF6000                   Dissertation   80.0      45"
     },
     "execution_count": 14,
     "metadata": {},
     "output_type": "execute_result"
    }
   ],
   "source": [
    "# uppercase dataframe's columns\n",
    "def lowercase_cols(df):\n",
    "    df.columns = df.columns.str.lower()\n",
    "    return df\n",
    "\n",
    "# set dataframe's index\n",
    "def set_index(df,col_name = ''):\n",
    "    if col_name in df.columns:\n",
    "        df = df.set_index(col_name)\n",
    "    return df\n",
    "\n",
    "(module_score.pipe(lowercase_cols).pipe(set_index, 'MODULE_CODE'))"
   ]
  },
  {
   "cell_type": "markdown",
   "execution_count": null,
   "metadata": {},
   "outputs": [],
   "source": [
    "Functions"
   ]
  },
  {
   "cell_type": "code",
   "execution_count": 17,
   "metadata": {},
   "outputs": [
    {
     "data": {
      "text/html": "<div>\n<style scoped>\n    .dataframe tbody tr th:only-of-type {\n        vertical-align: middle;\n    }\n\n    .dataframe tbody tr th {\n        vertical-align: top;\n    }\n\n    .dataframe thead th {\n        text-align: right;\n    }\n</style>\n<table border=\"1\" class=\"dataframe\">\n  <thead>\n    <tr style=\"text-align: right;\">\n      <th></th>\n      <th>module_code</th>\n      <th>module_name</th>\n      <th>score</th>\n      <th>weight</th>\n      <th>weighted_score</th>\n    </tr>\n  </thead>\n  <tbody>\n    <tr>\n      <th>0</th>\n      <td>INF6060</td>\n      <td>Information Retrieval</td>\n      <td>62.0</td>\n      <td>15</td>\n      <td>5.166667</td>\n    </tr>\n    <tr>\n      <th>1</th>\n      <td>INF6033</td>\n      <td>Data and Society</td>\n      <td>66.4</td>\n      <td>15</td>\n      <td>5.533333</td>\n    </tr>\n    <tr>\n      <th>2</th>\n      <td>INF6027</td>\n      <td>Introduction to Data Science</td>\n      <td>58.0</td>\n      <td>15</td>\n      <td>4.833333</td>\n    </tr>\n    <tr>\n      <th>3</th>\n      <td>INF6029</td>\n      <td>Data Analysis</td>\n      <td>56.4</td>\n      <td>15</td>\n      <td>4.700000</td>\n    </tr>\n    <tr>\n      <th>4</th>\n      <td>INF6032</td>\n      <td>Big Data Analytics</td>\n      <td>66.0</td>\n      <td>15</td>\n      <td>5.500000</td>\n    </tr>\n    <tr>\n      <th>5</th>\n      <td>INF6050</td>\n      <td>Database Design</td>\n      <td>80.2</td>\n      <td>15</td>\n      <td>6.683333</td>\n    </tr>\n    <tr>\n      <th>6</th>\n      <td>INF6028</td>\n      <td>Data Mining and Visualisation</td>\n      <td>75.0</td>\n      <td>15</td>\n      <td>6.250000</td>\n    </tr>\n    <tr>\n      <th>7</th>\n      <td>INF6430</td>\n      <td>User Interface Design</td>\n      <td>60.0</td>\n      <td>15</td>\n      <td>5.000000</td>\n    </tr>\n    <tr>\n      <th>8</th>\n      <td>INF6340</td>\n      <td>Research Methods</td>\n      <td>75.0</td>\n      <td>15</td>\n      <td>6.250000</td>\n    </tr>\n    <tr>\n      <th>9</th>\n      <td>INF6000</td>\n      <td>Dissertation</td>\n      <td>80.0</td>\n      <td>45</td>\n      <td>20.000000</td>\n    </tr>\n  </tbody>\n</table>\n</div>",
      "text/plain": "  module_code                    module_name  score  weight  weighted_score\n0     INF6060          Information Retrieval   62.0      15        5.166667\n1     INF6033               Data and Society   66.4      15        5.533333\n2     INF6027   Introduction to Data Science   58.0      15        4.833333\n3     INF6029                  Data Analysis   56.4      15        4.700000\n4     INF6032             Big Data Analytics   66.0      15        5.500000\n5     INF6050                Database Design   80.2      15        6.683333\n6     INF6028  Data Mining and Visualisation   75.0      15        6.250000\n7     INF6430          User Interface Design   60.0      15        5.000000\n8     INF6340               Research Methods   75.0      15        6.250000\n9     INF6000                   Dissertation   80.0      45       20.000000"
     },
     "execution_count": 17,
     "metadata": {},
     "output_type": "execute_result"
    }
   ],
   "source": [
    "credit_total = module_score['weight'].sum()\n",
    "\n",
    "# module_score['score'] * module_score['weight'] / credit_total\n",
    "module_score['weighted_score'] = module_score.apply(lambda x: x['score'] * x['weight'] / credit_total, axis = 1)\n",
    "module_score['weighted_score'].sum()\n",
    "module_score\n"
   ]
  }
 ]
}