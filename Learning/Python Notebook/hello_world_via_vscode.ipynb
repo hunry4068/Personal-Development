{
 "cells": [
  {
   "cell_type": "markdown",
   "metadata": {},
   "source": [
    "Successful run at Mac with v3.8.1!"
   ]
  },
  {
   "cell_type": "markdown",
   "metadata": {},
   "source": [
    "Import Libraries"
   ]
  },
  {
   "cell_type": "code",
   "execution_count": null,
   "metadata": {},
   "outputs": [],
   "source": [
    "# pip install pandas\n",
    "\n",
    "import pandas as pd"
   ]
  },
  {
   "cell_type": "code",
   "execution_count": null,
   "metadata": {},
   "outputs": [],
   "source": [
    "# create a dataframe\n",
    "module_score = pd.DataFrame()\n",
    "\n",
    "# create columns\n",
    "module_score['Module_code'] = ['INF6060','INF6033','INF6027','INF6029','INF6032','INF6050','INF6028','INF6430','INF6340','INF6000']\n",
    "module_score['Module_name'] = ['Information Retrieval','Data and Society','Introduction to Data Science','Data Analysis','Big Data Analytics','Database Design','Data Mining and Visualisation','User Interface Design','Research Methods','Dissertation']\n",
    "module_score['Score'] = [62,66.4,58,56.4,66,80.2,75,60,75,80]\n",
    "module_score['Weight'] = [15,15,15,15,15,15,15,15,15,45]\n",
    "\n",
    "module_score"
   ]
  },
  {
   "cell_type": "code",
   "execution_count": null,
   "metadata": {},
   "outputs": [],
   "source": [
    "# uppercase dataframe's columns\n",
    "def lowercase_cols(df):\n",
    "    df.columns = df.columns.str.lower()\n",
    "    return df\n",
    "\n",
    "# set dataframe's index\n",
    "def set_index(df,col_name = ''):\n",
    "    if col_name in df.columns:\n",
    "        df = df.set_index(col_name)\n",
    "    return df\n",
    "\n",
    "(module_score.pipe(lowercase_cols).pipe(set_index, 'MODULE_CODE'))"
   ]
  },
  {
   "cell_type": "markdown",
   "metadata": {},
   "source": [
    "Functions"
   ]
  },
  {
   "cell_type": "code",
   "execution_count": null,
   "metadata": {},
   "outputs": [],
   "source": [
    "credit_total = module_score['weight'].sum()\n",
    "\n",
    "# module_score['score'] * module_score['weight'] / credit_total\n",
    "module_score['weighted_score'] = module_score.apply(lambda x: x['score'] * x['weight'] / credit_total, axis = 1)\n",
    "module_score['weighted_score'].sum()\n",
    "module_score\n"
   ]
  }
 ],
 "metadata": {
  "language_info": {
   "name": "python",
   "codemirror_mode": {
    "name": "ipython",
    "version": 3
   },
   "version": "3.8.1-final"
  },
  "orig_nbformat": 2,
  "file_extension": ".py",
  "mimetype": "text/x-python",
  "name": "python",
  "npconvert_exporter": "python",
  "pygments_lexer": "ipython3",
  "version": 3,
  "kernelspec": {
   "name": "python38164bitcec32095674d4fb284e52e8b65b7fa55",
   "display_name": "Python 3.8.1 64-bit"
  }
 },
 "nbformat": 4,
 "nbformat_minor": 2
}